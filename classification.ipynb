{
 "cells": [
  {
   "cell_type": "code",
   "execution_count": 1,
   "metadata": {},
   "outputs": [
    {
     "name": "stderr",
     "output_type": "stream",
     "text": [
      "C:\\Users\\kduong\\Anaconda3\\lib\\site-packages\\scipy\\__init__.py:146: UserWarning: A NumPy version >=1.16.5 and <1.23.0 is required for this version of SciPy (detected version 1.26.1\n",
      "  warnings.warn(f\"A NumPy version >={np_minversion} and <{np_maxversion}\"\n"
     ]
    }
   ],
   "source": [
    "# import packages\n",
    "import scipy.io\n",
    "import numpy as np\n",
    "import matplotlib.pyplot as plt\n",
    "import pandas as pd\n",
    "import tensorflow as tf\n",
    "from sklearn import metrics "
   ]
  },
  {
   "cell_type": "code",
   "execution_count": 2,
   "metadata": {},
   "outputs": [],
   "source": [
    "# load data from mat file\n",
    "# mat = scipy.io.loadmat(\"exampleEMGdata180trial_train.mat\")\n",
    "\n",
    "# load feature data from csv\n",
    "features = pd.read_csv('feature_table.csv')\n",
    "# test_features = pd.read_csv('test_features.csv')\n",
    "# test_features = pd.read_csv('feature_table.csv')\n",
    "\n",
    "# make individual label tensor / column\n",
    "labels = features.pop('labels')\n",
    "# test_labels = test_features.pop('labels')\n",
    "\n",
    "# test_features"
   ]
  },
  {
   "cell_type": "code",
   "execution_count": 3,
   "metadata": {},
   "outputs": [],
   "source": [
    "# make rms features\n",
    "rms_headers = [f\"RMS ch {num}\" for num in [x+1 for x in range(4)]]\n",
    "rms_features = features[rms_headers]\n",
    "\n",
    "# make wl features\n",
    "wl_headers = [f\"WL ch {num}\" for num in [x+1 for x in range(4)]]\n",
    "wl_features = features[wl_headers]\n",
    "\n",
    "# make var features\n",
    "var_headers = [f\"VAR ch {num}\" for num in [x+1 for x in range(4)]]\n",
    "var_features = features[var_headers]\n",
    "\n",
    "# make iemg features\n",
    "iemg_headers = [f\"IEMG ch {num}\" for num in [x+1 for x in range(4)]]\n",
    "iemg_features = features[iemg_headers]\n",
    "\n",
    "# make mf features\n",
    "mf_headers = [f\"MF ch {num}\" for num in [x+1 for x in range(4)]]\n",
    "mf_features = features[mf_headers]\n",
    "\n",
    "# make pf features\n",
    "pf_headers = [f\"PF ch {num}\" for num in [x+1 for x in range(4)]]\n",
    "pf_features = features[pf_headers]\n",
    "\n",
    "# make best feature\n",
    "best_feature = pd.concat([mf_features, pf_features], axis=1, join='inner')\n",
    "\n",
    "# make mf test features\n",
    "# test_mf_features = test_features[mf_headers]\n",
    "\n",
    "# make pf test features\n",
    "# test_pf_features = test_features[pf_headers]\n",
    "\n",
    "# make best test feature\n",
    "# test_best_feature = pd.concat([test_mf_features, test_pf_features], axis=1, join='inner')\n",
    "\n"
   ]
  },
  {
   "cell_type": "code",
   "execution_count": 4,
   "metadata": {},
   "outputs": [],
   "source": [
    "def get_accuracy(feature, label):\n",
    "\n",
    "#     METRICS = [\n",
    "#       tf.keras.metrics.CategoricalAccuracy(name='accuracy')\n",
    "# ]\n",
    "\n",
    "    normalizer = tf.keras.layers.Normalization(axis=-1)\n",
    "\n",
    "    normalizer.adapt(feature)\n",
    "\n",
    "    model = tf.keras.Sequential([\n",
    "        normalizer,\n",
    "        tf.keras.layers.Flatten(),\n",
    "        tf.keras.layers.Dense(2187, activation='relu'),\n",
    "        tf.keras.layers.Dense(729, activation='relu'),\n",
    "        tf.keras.layers.Dense(243, activation='relu'),\n",
    "        tf.keras.layers.Dense(81, activation='relu'),\n",
    "        tf.keras.layers.Dense(27, activation='relu'),\n",
    "        tf.keras.layers.Dense(3, activation='softmax'),\n",
    "    ])\n",
    "\n",
    "    model.compile(optimizer='adam',\n",
    "                loss=tf.keras.losses.SparseCategoricalCrossentropy(from_logits=True),\n",
    "                metrics=tf.keras.metrics.CategoricalAccuracy(name='accuracy'))\n",
    "\n",
    "    model.fit(feature, label, epochs=50)\n",
    "\n",
    "    loss, acc = model.evaluate(feature, label)\n",
    "\n",
    "    return acc"
   ]
  },
  {
   "cell_type": "code",
   "execution_count": 5,
   "metadata": {},
   "outputs": [],
   "source": [
    "# rms_acc = get_accuracy(rms_features, labels)\n",
    "# wl_acc = get_accuracy(wl_features, labels)\n",
    "# var_acc = get_accuracy(var_features, labels)\n",
    "# iemg_acc = get_accuracy(iemg_features, labels)\n",
    "# mf_acc = get_accuracy(mf_features, labels)\n",
    "# pf_acc = get_accuracy (pf_features, labels)"
   ]
  },
  {
   "cell_type": "code",
   "execution_count": 6,
   "metadata": {},
   "outputs": [],
   "source": [
    "# accuracies = [rms_acc, wl_acc, var_acc, iemg_acc, mf_acc, pf_acc]\n",
    "\n",
    "# x = 1\n",
    "# for acc in accuracies:\n",
    "#     plt.bar(x, acc, width=0.5)\n",
    "#     x += 1\n",
    "\n",
    "# plt.xlabel('Feature Type')\n",
    "# plt.ylabel('Training Accuracy')\n",
    "# plt.title('Resubstitution Accuracy of RPS Training Data Features')\n",
    "# plt.legend(['Root Mean Square', 'Waveform Length', 'Variance', 'Integrated EMG', 'Mean Frequency', 'Peak Frequency'])"
   ]
  },
  {
   "cell_type": "code",
   "execution_count": 7,
   "metadata": {},
   "outputs": [],
   "source": [
    "# train_best_acc, train_tp, train_fp, train_tn, train_fn, train_pre, train_re= get_accuracy(best_feature, labels)\n",
    "# test_best_acc, test_tp, test_fp, test_tn, test_fn, test_pre, test_re = get_accuracy(test_best_feature, test_labels)\n",
    "# train_results = get_accuracy(best_feature, labels)\n",
    "# test_results = get_accuracy(test_best_feature, test_labels)"
   ]
  },
  {
   "cell_type": "code",
   "execution_count": 8,
   "metadata": {},
   "outputs": [
    {
     "name": "stdout",
     "output_type": "stream",
     "text": [
      "Epoch 1/20\n"
     ]
    },
    {
     "name": "stderr",
     "output_type": "stream",
     "text": [
      "C:\\Users\\kduong\\Anaconda3\\lib\\site-packages\\keras\\src\\backend.py:5729: UserWarning: \"`sparse_categorical_crossentropy` received `from_logits=True`, but the `output` argument was produced by a Softmax activation and thus does not represent logits. Was this intended?\n",
      "  output, from_logits = _get_logits(\n"
     ]
    },
    {
     "name": "stdout",
     "output_type": "stream",
     "text": [
      "1/1 [==============================] - 1s 735ms/step - loss: 1.0999 - accuracy: 0.2333\n",
      "Epoch 2/20\n",
      "1/1 [==============================] - 0s 6ms/step - loss: 1.0339 - accuracy: 0.6667\n",
      "Epoch 3/20\n",
      "1/1 [==============================] - 0s 7ms/step - loss: 0.9851 - accuracy: 0.7000\n",
      "Epoch 4/20\n",
      "1/1 [==============================] - 0s 6ms/step - loss: 0.9433 - accuracy: 0.7667\n",
      "Epoch 5/20\n",
      "1/1 [==============================] - 0s 6ms/step - loss: 0.9014 - accuracy: 0.7667\n",
      "Epoch 6/20\n",
      "1/1 [==============================] - 0s 6ms/step - loss: 0.8605 - accuracy: 0.7667\n",
      "Epoch 7/20\n",
      "1/1 [==============================] - 0s 7ms/step - loss: 0.8198 - accuracy: 0.7333\n",
      "Epoch 8/20\n",
      "1/1 [==============================] - 0s 7ms/step - loss: 0.7784 - accuracy: 0.7333\n",
      "Epoch 9/20\n",
      "1/1 [==============================] - 0s 6ms/step - loss: 0.7362 - accuracy: 0.7667\n",
      "Epoch 10/20\n",
      "1/1 [==============================] - 0s 7ms/step - loss: 0.6941 - accuracy: 0.7667\n",
      "Epoch 11/20\n",
      "1/1 [==============================] - 0s 7ms/step - loss: 0.6529 - accuracy: 0.7667\n",
      "Epoch 12/20\n",
      "1/1 [==============================] - 0s 7ms/step - loss: 0.6121 - accuracy: 0.8000\n",
      "Epoch 13/20\n",
      "1/1 [==============================] - 0s 6ms/step - loss: 0.5724 - accuracy: 0.8000\n",
      "Epoch 14/20\n",
      "1/1 [==============================] - 0s 6ms/step - loss: 0.5333 - accuracy: 0.8000\n",
      "Epoch 15/20\n",
      "1/1 [==============================] - 0s 7ms/step - loss: 0.4949 - accuracy: 0.8667\n",
      "Epoch 16/20\n",
      "1/1 [==============================] - 0s 7ms/step - loss: 0.4577 - accuracy: 0.8667\n",
      "Epoch 17/20\n",
      "1/1 [==============================] - 0s 7ms/step - loss: 0.4216 - accuracy: 0.9000\n",
      "Epoch 18/20\n",
      "1/1 [==============================] - 0s 6ms/step - loss: 0.3861 - accuracy: 0.9333\n",
      "Epoch 19/20\n",
      "1/1 [==============================] - 0s 7ms/step - loss: 0.3517 - accuracy: 0.9667\n",
      "Epoch 20/20\n",
      "1/1 [==============================] - 0s 6ms/step - loss: 0.3186 - accuracy: 0.9667\n",
      "1/1 [==============================] - 0s 156ms/step - loss: 0.2876 - accuracy: 0.9667\n"
     ]
    },
    {
     "name": "stderr",
     "output_type": "stream",
     "text": [
      "C:\\Users\\kduong\\Anaconda3\\lib\\site-packages\\keras\\src\\backend.py:5729: UserWarning: \"`sparse_categorical_crossentropy` received `from_logits=True`, but the `output` argument was produced by a Softmax activation and thus does not represent logits. Was this intended?\n",
      "  output, from_logits = _get_logits(\n"
     ]
    }
   ],
   "source": [
    "normalizer = tf.keras.layers.Normalization(axis=-1)\n",
    "\n",
    "normalizer.adapt(best_feature)\n",
    "\n",
    "model = tf.keras.Sequential([\n",
    "    normalizer,\n",
    "    tf.keras.layers.Flatten(),\n",
    "    tf.keras.layers.Dense(729, activation='relu'),\n",
    "    tf.keras.layers.Dense(243, activation='relu'),\n",
    "    tf.keras.layers.Dense(81, activation='relu'),\n",
    "    tf.keras.layers.Dense(27, activation='relu'),\n",
    "    tf.keras.layers.Dense(3, activation='softmax'),\n",
    "])\n",
    "\n",
    "model.compile(optimizer='adam',\n",
    "            loss=tf.keras.losses.SparseCategoricalCrossentropy(from_logits=True),\n",
    "            # metrics=tf.keras.metrics.CategoricalAccuracy(name='accuracy')\n",
    "            metrics=['accuracy']\n",
    "            )\n",
    "\n",
    "model.fit(best_feature, labels, epochs=20)\n",
    "\n",
    "loss, acc = model.evaluate(best_feature, labels)"
   ]
  },
  {
   "cell_type": "code",
   "execution_count": 9,
   "metadata": {},
   "outputs": [
    {
     "name": "stdout",
     "output_type": "stream",
     "text": [
      "1/1 [==============================] - 0s 95ms/step\n"
     ]
    }
   ],
   "source": [
    "prediction_vector = model.predict(best_feature)"
   ]
  },
  {
   "cell_type": "code",
   "execution_count": 10,
   "metadata": {},
   "outputs": [
    {
     "data": {
      "text/plain": [
       "0     0\n",
       "1     0\n",
       "2     0\n",
       "3     0\n",
       "4     0\n",
       "5     0\n",
       "6     0\n",
       "7     0\n",
       "8     0\n",
       "9     0\n",
       "10    1\n",
       "11    1\n",
       "12    1\n",
       "13    1\n",
       "14    1\n",
       "15    1\n",
       "16    1\n",
       "17    1\n",
       "18    1\n",
       "19    1\n",
       "20    2\n",
       "21    2\n",
       "22    2\n",
       "23    2\n",
       "24    2\n",
       "25    2\n",
       "26    2\n",
       "27    2\n",
       "28    2\n",
       "29    2\n",
       "Name: labels, dtype: int64"
      ]
     },
     "execution_count": 10,
     "metadata": {},
     "output_type": "execute_result"
    }
   ],
   "source": [
    "new_pvector = [list(prediction_vector[idx]).index(max(list(prediction_vector)[idx])) for idx in range(len(prediction_vector))]\n",
    "new_pvector\n",
    "labels"
   ]
  },
  {
   "cell_type": "code",
   "execution_count": 11,
   "metadata": {},
   "outputs": [],
   "source": [
    "# list(prediction_vector[0]).index(max(prediction_vector[0]))\n",
    "# list(test_labels)"
   ]
  },
  {
   "cell_type": "code",
   "execution_count": 12,
   "metadata": {},
   "outputs": [],
   "source": [
    "correct_predictions = [list(prediction_vector[idx]).index(max(list(prediction_vector)[idx])) for idx in range(len(prediction_vector)) if list(prediction_vector[idx]).index(max(list(prediction_vector)[idx])) == labels[idx]]"
   ]
  },
  {
   "cell_type": "code",
   "execution_count": 13,
   "metadata": {},
   "outputs": [
    {
     "data": {
      "text/plain": [
       "0.9666666666666667"
      ]
     },
     "execution_count": 13,
     "metadata": {},
     "output_type": "execute_result"
    }
   ],
   "source": [
    "len(correct_predictions)/len(prediction_vector)"
   ]
  },
  {
   "cell_type": "code",
   "execution_count": 35,
   "metadata": {},
   "outputs": [
    {
     "data": {
      "image/png": "[encoded data removed]",
      "text/plain": [
       "<Figure size 432x288 with 2 Axes>"
      ]
     },
     "metadata": {
      "needs_background": "light"
     },
     "output_type": "display_data"
    }
   ],
   "source": [
    "confusion_matrix = metrics.confusion_matrix(labels, new_pvector) \n",
    "cm_display = metrics.ConfusionMatrixDisplay(confusion_matrix = confusion_matrix, display_labels = [\"Rock\", \"Paper\", \"Scissors\"])\n",
    "cm_display.plot(cmap = \"nipy_spectral\")\n",
    "plt.show()"
   ]
  },
  {
   "cell_type": "code",
   "execution_count": null,
   "metadata": {},
   "outputs": [],
   "source": []
  }
 ],
 "metadata": {
  "kernelspec": {
   "display_name": "Python 3 (ipykernel)",
   "language": "python",
   "name": "python3"
  },
  "language_info": {
   "codemirror_mode": {
    "name": "ipython",
    "version": 3
   },
   "file_extension": ".py",
   "mimetype": "text/x-python",
   "name": "python",
   "nbconvert_exporter": "python",
   "pygments_lexer": "ipython3",
   "version": "3.9.12"
  }
 },
 "nbformat": 4,
 "nbformat_minor": 4
}
