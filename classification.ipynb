{
 "cells": [
  {
   "cell_type": "code",
   "execution_count": 58,
   "metadata": {},
   "outputs": [],
   "source": [
    "# import packages\n",
    "import scipy.io\n",
    "import numpy as np\n",
    "import matplotlib.pyplot as plt\n",
    "import pandas as pd\n",
    "import tensorflow as tf\n",
    "from sklearn import metrics "
   ]
  },
  {
   "cell_type": "code",
   "execution_count": 59,
   "metadata": {},
   "outputs": [],
   "source": [
    "# load data from mat file\n",
    "# mat = scipy.io.loadmat(\"exampleEMGdata180trial_train.mat\")\n",
    "\n",
    "# load feature data from csv\n",
    "features = pd.read_csv('aditi_ian.csv')\n",
    "test_features = pd.read_csv('KD3_features.csv')\n",
    "# test_features = pd.read_csv('feature_table.csv')\n",
    "\n",
    "# make individual label tensor / column\n",
    "labels = features.pop('labels')\n",
    "test_labels = test_features.pop('labels')\n",
    "\n",
    "# test_features"
   ]
  },
  {
   "cell_type": "code",
   "execution_count": 60,
   "metadata": {},
   "outputs": [],
   "source": [
    "# make rms features\n",
    "rms_headers = [f\"RMS ch {num}\" for num in [x+1 for x in range(4)]]\n",
    "rms_features = features[rms_headers]\n",
    "\n",
    "# make wl features\n",
    "wl_headers = [f\"WL ch {num}\" for num in [x+1 for x in range(4)]]\n",
    "wl_features = features[wl_headers]\n",
    "\n",
    "# make var features\n",
    "var_headers = [f\"VAR ch {num}\" for num in [x+1 for x in range(4)]]\n",
    "var_features = features[var_headers]\n",
    "\n",
    "# make iemg features\n",
    "iemg_headers = [f\"IEMG ch {num}\" for num in [x+1 for x in range(4)]]\n",
    "iemg_features = features[iemg_headers]\n",
    "\n",
    "# make mf features\n",
    "mf_headers = [f\"MF ch {num}\" for num in [x+1 for x in range(4)]]\n",
    "mf_features = features[mf_headers]\n",
    "\n",
    "# make pf features\n",
    "pf_headers = [f\"PF ch {num}\" for num in [x+1 for x in range(4)]]\n",
    "pf_features = features[pf_headers]\n",
    "\n",
    "# make best feature\n",
    "best_feature = pd.concat([mf_features, pf_features], axis=1, join='inner')\n",
    "\n",
    "# make mf test features\n",
    "test_mf_features = test_features[mf_headers]\n",
    "\n",
    "# make pf test features\n",
    "test_pf_features = test_features[pf_headers]\n",
    "\n",
    "# make best test feature\n",
    "test_best_feature = pd.concat([test_mf_features, test_pf_features], axis=1, join='inner')\n",
    "\n"
   ]
  },
  {
   "cell_type": "code",
   "execution_count": 61,
   "metadata": {},
   "outputs": [],
   "source": [
    "def get_accuracy(feature, label, t_features, t_labels, num_epochs):\n",
    "\n",
    "#     METRICS = [\n",
    "#       tf.keras.metrics.CategoricalAccuracy(name='accuracy')\n",
    "# ]\n",
    "\n",
    "    normalizer = tf.keras.layers.Normalization(axis=-1)\n",
    "\n",
    "    normalizer.adapt(feature)\n",
    "\n",
    "    model = tf.keras.Sequential([\n",
    "        normalizer,\n",
    "        tf.keras.layers.Flatten(),\n",
    "        tf.keras.layers.Dense(2187, activation='relu'),\n",
    "        tf.keras.layers.Dense(729, activation='relu'),\n",
    "        tf.keras.layers.Dense(243, activation='relu'),\n",
    "        tf.keras.layers.Dense(81, activation='relu'),\n",
    "        tf.keras.layers.Dense(27, activation='relu'),\n",
    "        tf.keras.layers.Dense(3, activation='softmax'),\n",
    "    ])\n",
    "\n",
    "    model.compile(optimizer='adam',\n",
    "                loss=tf.keras.losses.SparseCategoricalCrossentropy(from_logits=True),\n",
    "                metrics=['accuracy'])\n",
    "\n",
    "    model.fit(feature, label, epochs=num_epochs, verbose=0)\n",
    "\n",
    "    loss, acc = model.evaluate(t_features, t_labels)\n",
    "\n",
    "    return acc"
   ]
  },
  {
   "cell_type": "code",
   "execution_count": 62,
   "metadata": {},
   "outputs": [],
   "source": [
    "# rms_acc = get_accuracy(rms_features, labels)\n",
    "# wl_acc = get_accuracy(wl_features, labels)\n",
    "# var_acc = get_accuracy(var_features, labels)\n",
    "# iemg_acc = get_accuracy(iemg_features, labels)\n",
    "# mf_acc = get_accuracy(mf_features, labels)\n",
    "# pf_acc = get_accuracy (pf_features, labels)"
   ]
  },
  {
   "cell_type": "code",
   "execution_count": 63,
   "metadata": {},
   "outputs": [],
   "source": [
    "# accuracies = [rms_acc, wl_acc, var_acc, iemg_acc, mf_acc, pf_acc]\n",
    "\n",
    "# x = 1\n",
    "# for acc in accuracies:\n",
    "#     plt.bar(x, acc, width=0.5)\n",
    "#     x += 1\n",
    "\n",
    "# plt.xlabel('Feature Type')\n",
    "# plt.ylabel('Training Accuracy')\n",
    "# plt.title('Resubstitution Accuracy of RPS Training Data Features')\n",
    "# plt.legend(['Root Mean Square', 'Waveform Length', 'Variance', 'Integrated EMG', 'Mean Frequency', 'Peak Frequency'])"
   ]
  },
  {
   "cell_type": "code",
   "execution_count": 64,
   "metadata": {},
   "outputs": [],
   "source": [
    "# train_best_acc, train_tp, train_fp, train_tn, train_fn, train_pre, train_re= get_accuracy(best_feature, labels)\n",
    "# test_best_acc, test_tp, test_fp, test_tn, test_fn, test_pre, test_re = get_accuracy(test_best_feature, test_labels)\n",
    "# train_results = get_accuracy(best_feature, labels)\n",
    "# test_results = get_accuracy(test_best_feature, test_labels)"
   ]
  },
  {
   "cell_type": "code",
   "execution_count": 65,
   "metadata": {},
   "outputs": [
    {
     "name": "stdout",
     "output_type": "stream",
     "text": [
      "Epoch 1/16\n"
     ]
    },
    {
     "name": "stderr",
     "output_type": "stream",
     "text": [
      "c:\\Users\\mampane\\OneDrive - Olin College of Engineering\\Desktop\\Olin\\Second Year First Semester\\Neurotech\\rps_classifier\\rps_classifier\\.venv\\Lib\\site-packages\\keras\\src\\backend.py:5729: UserWarning: \"`sparse_categorical_crossentropy` received `from_logits=True`, but the `output` argument was produced by a Softmax activation and thus does not represent logits. Was this intended?\n",
      "  output, from_logits = _get_logits(\n"
     ]
    },
    {
     "name": "stdout",
     "output_type": "stream",
     "text": [
      "10/10 [==============================] - 1s 15ms/step - loss: 0.8983 - accuracy: 0.6467\n",
      "Epoch 2/16\n",
      "10/10 [==============================] - 0s 14ms/step - loss: 0.4847 - accuracy: 0.8567\n",
      "Epoch 3/16\n",
      "10/10 [==============================] - 0s 13ms/step - loss: 0.1597 - accuracy: 0.9500\n",
      "Epoch 4/16\n",
      "10/10 [==============================] - 0s 14ms/step - loss: 0.0576 - accuracy: 0.9900\n",
      "Epoch 5/16\n",
      "10/10 [==============================] - 0s 15ms/step - loss: 0.0119 - accuracy: 1.0000\n",
      "Epoch 6/16\n",
      "10/10 [==============================] - 0s 14ms/step - loss: 0.0030 - accuracy: 1.0000\n",
      "Epoch 7/16\n",
      "10/10 [==============================] - 0s 13ms/step - loss: 0.0012 - accuracy: 1.0000\n",
      "Epoch 8/16\n",
      "10/10 [==============================] - 0s 15ms/step - loss: 4.9635e-04 - accuracy: 1.0000\n",
      "Epoch 9/16\n",
      "10/10 [==============================] - 0s 13ms/step - loss: 4.0869e-04 - accuracy: 1.0000\n",
      "Epoch 10/16\n",
      "10/10 [==============================] - 0s 12ms/step - loss: 2.9467e-04 - accuracy: 1.0000\n",
      "Epoch 11/16\n",
      "10/10 [==============================] - 0s 13ms/step - loss: 2.3361e-04 - accuracy: 1.0000\n",
      "Epoch 12/16\n",
      "10/10 [==============================] - 0s 14ms/step - loss: 1.9690e-04 - accuracy: 1.0000\n",
      "Epoch 13/16\n",
      "10/10 [==============================] - 0s 14ms/step - loss: 1.7379e-04 - accuracy: 1.0000\n",
      "Epoch 14/16\n",
      "10/10 [==============================] - 0s 13ms/step - loss: 1.5478e-04 - accuracy: 1.0000\n",
      "Epoch 15/16\n",
      "10/10 [==============================] - 0s 14ms/step - loss: 1.4002e-04 - accuracy: 1.0000\n",
      "Epoch 16/16\n",
      "10/10 [==============================] - 0s 15ms/step - loss: 1.2711e-04 - accuracy: 1.0000\n",
      "1/1 [==============================] - 0s 94ms/step - loss: 53.9187 - accuracy: 0.3333\n"
     ]
    },
    {
     "name": "stderr",
     "output_type": "stream",
     "text": [
      "c:\\Users\\mampane\\OneDrive - Olin College of Engineering\\Desktop\\Olin\\Second Year First Semester\\Neurotech\\rps_classifier\\rps_classifier\\.venv\\Lib\\site-packages\\keras\\src\\backend.py:5729: UserWarning: \"`sparse_categorical_crossentropy` received `from_logits=True`, but the `output` argument was produced by a Softmax activation and thus does not represent logits. Was this intended?\n",
      "  output, from_logits = _get_logits(\n"
     ]
    }
   ],
   "source": [
    "normalizer = tf.keras.layers.Normalization(axis=-1)\n",
    "\n",
    "normalizer.adapt(best_feature)\n",
    "\n",
    "model = tf.keras.Sequential([\n",
    "    normalizer,\n",
    "    tf.keras.layers.Flatten(),\n",
    "    tf.keras.layers.Dense(2187, activation='relu'),\n",
    "    tf.keras.layers.Dense(729, activation='relu'),\n",
    "    tf.keras.layers.Dense(243, activation='relu'),\n",
    "    tf.keras.layers.Dense(81, activation='relu'),\n",
    "    tf.keras.layers.Dense(27, activation='relu'),\n",
    "    tf.keras.layers.Dense(3, activation='softmax'),\n",
    "])\n",
    "\n",
    "model.compile(optimizer='adam',\n",
    "            loss=tf.keras.losses.SparseCategoricalCrossentropy(from_logits=True),\n",
    "            # metrics=tf.keras.metrics.CategoricalAccuracy(name='accuracy')\n",
    "            metrics=['accuracy']\n",
    "            )\n",
    "\n",
    "model.fit(best_feature, labels, epochs=16)\n",
    "\n",
    "loss, acc = model.evaluate(test_best_feature, test_labels)"
   ]
  },
  {
   "cell_type": "code",
   "execution_count": 66,
   "metadata": {},
   "outputs": [
    {
     "name": "stdout",
     "output_type": "stream",
     "text": [
      "1/1 [==============================] - 0s 58ms/step\n",
      "10/10 [==============================] - 0s 3ms/step\n"
     ]
    }
   ],
   "source": [
    "prediction_vector = model.predict(test_best_feature)\n",
    "resubstitution_vector = model.predict(best_feature)"
   ]
  },
  {
   "cell_type": "code",
   "execution_count": 67,
   "metadata": {},
   "outputs": [],
   "source": [
    "new_pvector = [list(prediction_vector[idx]).index(max(list(prediction_vector)[idx])) for idx in range(len(prediction_vector))]\n",
    "new_rvector = [list(resubstitution_vector[idx]).index(max(list(resubstitution_vector)[idx])) for idx in range(len(resubstitution_vector))]\n"
   ]
  },
  {
   "cell_type": "code",
   "execution_count": 68,
   "metadata": {},
   "outputs": [],
   "source": [
    "# list(prediction_vector[0]).index(max(prediction_vector[0]))\n",
    "# list(test_labels)"
   ]
  },
  {
   "cell_type": "code",
   "execution_count": 69,
   "metadata": {},
   "outputs": [],
   "source": [
    "correct_predictions = [list(prediction_vector[idx]).index(max(list(prediction_vector)[idx])) for idx in range(len(prediction_vector)) if list(prediction_vector[idx]).index(max(list(prediction_vector)[idx])) == test_labels[idx]]"
   ]
  },
  {
   "cell_type": "code",
   "execution_count": 70,
   "metadata": {},
   "outputs": [
    {
     "data": {
      "text/plain": [
       "0.3333333333333333"
      ]
     },
     "execution_count": 70,
     "metadata": {},
     "output_type": "execute_result"
    }
   ],
   "source": [
    "len(correct_predictions)/len(prediction_vector)"
   ]
  },
  {
   "cell_type": "code",
   "execution_count": 71,
   "metadata": {},
   "outputs": [
    {
     "data": {
      "image/png": "[encoded data removed]",
      "text/plain": [
       "<Figure size 640x480 with 2 Axes>"
      ]
     },
     "metadata": {},
     "output_type": "display_data"
    }
   ],
   "source": [
    "# train confusion matrix\n",
    "confusion_matrix = metrics.confusion_matrix(labels, new_rvector) \n",
    "cm_display = metrics.ConfusionMatrixDisplay(confusion_matrix = confusion_matrix, display_labels = [\"Rock\", \"Paper\", \"Scissors\"])\n",
    "cm_display.plot(cmap = \"nipy_spectral\")\n",
    "plt.show()"
   ]
  },
  {
   "cell_type": "code",
   "execution_count": 72,
   "metadata": {},
   "outputs": [
    {
     "data": {
      "image/png": "[encoded data removed]",
      "text/plain": [
       "<Figure size 640x480 with 2 Axes>"
      ]
     },
     "metadata": {},
     "output_type": "display_data"
    }
   ],
   "source": [
    "# test confusion matrix\n",
    "confusion_matrix = metrics.confusion_matrix(test_labels, new_pvector) \n",
    "cm_display = metrics.ConfusionMatrixDisplay(confusion_matrix = confusion_matrix, display_labels = [\"Rock\", \"Paper\", \"Scissors\"])\n",
    "cm_display.plot(cmap = \"nipy_spectral\")\n",
    "plt.show()"
   ]
  },
  {
   "cell_type": "code",
   "execution_count": 73,
   "metadata": {},
   "outputs": [],
   "source": [
    "# list(range(21))[1:]"
   ]
  },
  {
   "cell_type": "code",
   "execution_count": 74,
   "metadata": {},
   "outputs": [
    {
     "data": {
      "text/plain": [
       "1.0"
      ]
     },
     "execution_count": 74,
     "metadata": {},
     "output_type": "execute_result"
    }
   ],
   "source": [
    "from sklearn.neighbors import KNeighborsClassifier\n",
    "\n",
    "neigh = KNeighborsClassifier(n_neighbors=3)\n",
    "\n",
    "neigh.fit(best_feature, labels)\n",
    "\n",
    "predictions = list(neigh.predict(best_feature))\n",
    "correct_p = [predictions[idx] for idx in range(len(predictions)) if predictions[idx] == list(labels)[idx]]\n",
    "len(correct_p)/len(labels)\n"
   ]
  },
  {
   "cell_type": "code",
   "execution_count": 75,
   "metadata": {},
   "outputs": [],
   "source": [
    "# accuracies = []\n",
    "\n",
    "# for num in list(range(21))[1:]:\n",
    "#     accuracies.append(get_accuracy(best_feature, labels, test_best_feature, test_labels, num))"
   ]
  },
  {
   "cell_type": "code",
   "execution_count": 76,
   "metadata": {},
   "outputs": [],
   "source": [
    "# print(f'num_epochs: {accuracies.index(max(accuracies))+1}, max_accuracy: {max(accuracies)}')\n"
   ]
  }
 ],
 "metadata": {
  "kernelspec": {
   "display_name": "Python 3 (ipykernel)",
   "language": "python",
   "name": "python3"
  },
  "language_info": {
   "codemirror_mode": {
    "name": "ipython",
    "version": 3
   },
   "file_extension": ".py",
   "mimetype": "text/x-python",
   "name": "python",
   "nbconvert_exporter": "python",
   "pygments_lexer": "ipython3",
   "version": "3.11.1"
  }
 },
 "nbformat": 4,
 "nbformat_minor": 4
}
