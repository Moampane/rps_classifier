{
 "cells": [
  {
   "cell_type": "code",
   "execution_count": 10,
   "metadata": {},
   "outputs": [],
   "source": [
    "# import packages\n",
    "import scipy\n",
    "import numpy as np\n",
    "import matplotlib.pyplot as plt\n",
    "import pandas as pd"
   ]
  },
  {
   "cell_type": "code",
   "execution_count": 11,
   "metadata": {},
   "outputs": [],
   "source": [
    "# load data from mat file\n",
    "mat = scipy.io.loadmat(\"exampleEMGdata180trial_train.mat\")\n",
    "\n",
    "# load test data from mat file\n",
    "# test = scipy.io.loadmat(\"exampleEMGdata120trial_test.mat\")\n",
    "# test = scipy.io.loadmat(\"anotherDay.mat\")"
   ]
  },
  {
   "cell_type": "code",
   "execution_count": 12,
   "metadata": {},
   "outputs": [
    {
     "data": {
      "text/plain": [
       "dict_keys(['__header__', '__version__', '__globals__', 'Fs', 'actualFs', 'dataChTimeTr', 'label_names', 'labels', 'numCh'])"
      ]
     },
     "execution_count": 12,
     "metadata": {},
     "output_type": "execute_result"
    }
   ],
   "source": [
    "# get keys of data from mat file\n",
    "mat.keys()\n",
    "\n",
    "# test.keys()"
   ]
  },
  {
   "cell_type": "code",
   "execution_count": 13,
   "metadata": {},
   "outputs": [
    {
     "name": "stdout",
     "output_type": "stream",
     "text": [
      "data dimensions: (4, 1400, 180)\n"
     ]
    }
   ],
   "source": [
    "# assign data for plotting and feature extraction to variables\n",
    "data = mat['dataChTimeTr']\n",
    "data_dim = mat['dataChTimeTr'].shape\n",
    "Fs = mat['Fs'][0][0]\n",
    "num_timesteps = data_dim[1]\n",
    "\n",
    "# list for assigning label numbers to the conditions they represent\n",
    "label_rps = ['rock', 'paper', 'scissors']\n",
    "labels = mat['labels']\n",
    "label_names = mat['label_names']\n",
    "numCh = mat['numCh'][0][0]\n",
    "\n",
    "\n",
    "# make time vector\n",
    "time_ms = np.linspace(0, Fs*num_timesteps-Fs, num_timesteps)\n",
    "\n",
    "print(f\"data dimensions: {data_dim}\")"
   ]
  },
  {
   "cell_type": "code",
   "execution_count": 14,
   "metadata": {},
   "outputs": [],
   "source": [
    "# test data\n",
    "# test_data = test['dataChTimeTr']\n",
    "# test_data_dim = test['dataChTimeTr'].shape\n",
    "# test_Fs = test['Fs'][0][0]\n",
    "# test_num_timesteps = test_data_dim[1]\n",
    "\n",
    "# test_labels = test['labels']\n",
    "# test_label_names = test['label_names']\n",
    "# test_numCh = test['numCh'][0][0]\n",
    "\n",
    "# make time vector\n",
    "# test_time_ms = np.linspace(0, test_Fs*test_num_timesteps-test_Fs, test_num_timesteps)"
   ]
  },
  {
   "cell_type": "code",
   "execution_count": 15,
   "metadata": {},
   "outputs": [],
   "source": [
    "# test_labels\n",
    "# cond = 3\n",
    "# len([x[0] for x in list(test_labels) if x[0] == cond])"
   ]
  },
  {
   "cell_type": "code",
   "execution_count": 16,
   "metadata": {},
   "outputs": [],
   "source": [
    "# extract signals from specific data channel\n",
    "def extract_signal(data, labnam_in, lab_in, label_conv, ch_in):\n",
    "    ch = ch_in\n",
    "    all_cond_signals = {} # dictionary of signals, key is condition, value is list of signals for that condition from the dataset\n",
    "\n",
    "    for cond in labnam_in:\n",
    "            trials = [idx-1 for idx in range(len(lab_in)) if lab_in[idx-1]==cond[0]] # makes list of indices of all trials of a specific condition\n",
    "            cond_signals = [[v[tr-1] for v in data[ch-1]] for tr in trials] # makes list of signals from each trial of a specificed condition\n",
    "            all_cond_signals[label_conv[cond[0]-1]] = cond_signals\n",
    "\n",
    "    return all_cond_signals"
   ]
  },
  {
   "cell_type": "code",
   "execution_count": 17,
   "metadata": {},
   "outputs": [],
   "source": [
    "# rock_signal = np.array(extract_signal(data, label_names, labels, label_rps, 1)['scissors'][0])\n",
    "# x_f = np.fft.fft(rock_signal)\n",
    "# freqs = np.fft.fftfreq(rock_signal.shape[-1])      # get sample frequencies for which FFT was computed\n",
    "\n",
    "\n",
    "\n",
    "# # plt.plot(freqs, x_f.real, freqs, x_f.imag)\n",
    "# plt.plot(freqs, x_f.real)\n",
    "# plt.xlabel('Frequency')\n",
    "# plt.ylabel('Signal')\n",
    "# plt.title('FFT of x')\n",
    "# # plt.legend(['real', 'imag'])\n",
    "\n",
    "# print(np.average(x_f, weights=freqs))\n",
    "# print(np.sqrt(sum([x*x for x in rock_signal])/num_timesteps))\n",
    "\n",
    "# x_f_abs = [abs(x) for x in x_f.real]\n",
    "# print(freqs[np.where(x_f_abs==max(x_f_abs[1:]))[0]][0])\n"
   ]
  },
  {
   "cell_type": "code",
   "execution_count": 18,
   "metadata": {},
   "outputs": [],
   "source": [
    "# feature extraction functions\n",
    "# used in histogram plotter\n",
    "\n",
    "# get root mean square from list of signal data\n",
    "def get_rms(data, num_timesteps):\n",
    "    return np.sqrt(sum([x*x for x in data])/num_timesteps)\n",
    "\n",
    "# get waveform length from list of signal data\n",
    "def get_wl(data, num_timesteps):\n",
    "    return sum([abs(data[idx+1]-data[idx]) for idx in range(len(data)-1)])/num_timesteps\n",
    "\n",
    "# get variance from list of signal data\n",
    "def get_var(data, num_timesteps):\n",
    "    return np.var(data)\n",
    "\n",
    "# get integrated EMG from list of signal data\n",
    "def get_iemg(data, num_timesteps):\n",
    "    return sum([abs(x) for x in data])\n",
    "\n",
    "# get mean frequency from list of signal data\n",
    "def get_mf(data, num_timesteps):\n",
    "    data = np.array(data)\n",
    "    fft = [abs(x) for x in np.fft.fft(data).real]\n",
    "    freqs = [abs(x) for x in np.fft.fftfreq(data.shape[-1])]\n",
    "    \n",
    "    return np.average(freqs, weights=fft)\n",
    "\n",
    "# get peak frequency from list of signal data\n",
    "def get_pf(data, num_timesteps):\n",
    "    data = np.array(data)\n",
    "    fft = [abs(x) for x in np.fft.fft(data).real]\n",
    "    freqs = np.fft.fftfreq(data.shape[-1])\n",
    "    return abs(freqs[np.where(fft==max(fft[1:]))[0]][0])"
   ]
  },
  {
   "cell_type": "code",
   "execution_count": 19,
   "metadata": {},
   "outputs": [],
   "source": [
    "# function for extracting features of each condition from a dictionary of (condition, list of signals) pairs\n",
    "def extract_feature_condition(data, labnam_in, lab_in, label_conv, ch_in, num_timesteps, func):\n",
    "    all_cond_signal = extract_signal(data, labnam_in, lab_in, label_conv, ch_in) # dictionary of signals, key is condition, value is list of signals for that condition from the dataset\n",
    "    cond_features = {cond: [func(signal, num_timesteps) for signal in all_cond_signal[cond]] for cond in all_cond_signal} # dictionary of features, key is condition, value is list of features for that condition\n",
    "    return cond_features"
   ]
  },
  {
   "cell_type": "code",
   "execution_count": 20,
   "metadata": {},
   "outputs": [],
   "source": [
    "# histogram plotter function\n",
    "def make_histogram(data, labnam_in, lab_in, label_conv, num_timesteps, func, ch_in, bins_in, domain):\n",
    "    ch = ch_in\n",
    "    bins = bins_in\n",
    "\n",
    "    features = extract_feature_condition(data, labnam_in, lab_in, label_conv, ch, num_timesteps, func)\n",
    "\n",
    "    # plot features on histogram\n",
    "    [plt.hist(features[cond], bins, alpha=0.5) for cond in features]\n",
    "\n",
    "    # add legend, axis, and title to histogram\n",
    "    plt.legend(features.keys())\n",
    "    if domain == \"time\":\n",
    "        plt.xlabel('Adjusted Voltage')\n",
    "    elif domain == \"frequency\":\n",
    "        plt.xlabel('Frequency')\n",
    "    plt.ylabel('Count')\n",
    "    plt.title(f'{func.__name__[4:].upper()} Values for RPS Conditions From Channel {ch}')"
   ]
  },
  {
   "cell_type": "code",
   "execution_count": 21,
   "metadata": {},
   "outputs": [],
   "source": [
    "# # select channel and trial\n",
    "# ch = 3\n",
    "# tr = 1\n",
    "# one_signal = [v[tr-1] for v in mat['dataChTimeTr'][ch-1]]\n",
    "\n",
    "# # plot signal from specific channel of specific trial\n",
    "# plt.plot(time_ms, one_signal)\n",
    "\n",
    "# # calculate RMS\n",
    "# rms = get_rms(one_signal, num_timesteps)\n",
    "# print(one_signal)\n",
    "# print(f\"rms = {rms}\")\n",
    "\n",
    "# # actual condition\n",
    "# ac_condition = label_rps[labels[tr-1][0]-1]\n",
    "# print(ac_condition)"
   ]
  },
  {
   "cell_type": "code",
   "execution_count": 22,
   "metadata": {},
   "outputs": [],
   "source": [
    "# RMSs histogram\n",
    "# ch = 1\n",
    "# bins = 50\n",
    "\n",
    "# make_histogram(data, label_names, labels, label_rps, num_timesteps, get_rms, ch, bins, 'time')\n"
   ]
  },
  {
   "cell_type": "code",
   "execution_count": 23,
   "metadata": {},
   "outputs": [],
   "source": [
    "# WLs histogram\n",
    "# ch = 2\n",
    "# bins = 50\n",
    "\n",
    "# make_histogram(data, label_names, labels, label_rps, num_timesteps, get_wl, ch, bins, 'time')"
   ]
  },
  {
   "cell_type": "markdown",
   "metadata": {},
   "source": []
  },
  {
   "cell_type": "code",
   "execution_count": 24,
   "metadata": {},
   "outputs": [],
   "source": [
    "# VARs histogram\n",
    "# ch = 3\n",
    "# bins = 50\n",
    "\n",
    "# make_histogram(data, label_names, labels, label_rps, num_timesteps, get_var, ch, bins, 'time')"
   ]
  },
  {
   "cell_type": "code",
   "execution_count": 25,
   "metadata": {},
   "outputs": [],
   "source": [
    "# IEMGs histogram\n",
    "# ch = 4\n",
    "# bins = 50\n",
    "\n",
    "# make_histogram(data, label_names, labels, label_rps, num_timesteps, get_iemg, ch, bins, 'time')"
   ]
  },
  {
   "cell_type": "code",
   "execution_count": 26,
   "metadata": {},
   "outputs": [],
   "source": [
    "# MFs histogram\n",
    "# ch = 1\n",
    "# bins = 50\n",
    "\n",
    "# make_histogram(data, label_names, labels, label_rps, num_timesteps, get_mf, ch, bins, \"frequency\")"
   ]
  },
  {
   "cell_type": "code",
   "execution_count": 27,
   "metadata": {},
   "outputs": [],
   "source": [
    "# PFs histogram\n",
    "# ch = 2\n",
    "# bins = 50\n",
    "\n",
    "# make_histogram(data, label_names, labels, label_rps, num_timesteps, get_pf, ch, bins, \"frequency\")"
   ]
  },
  {
   "cell_type": "code",
   "execution_count": 28,
   "metadata": {},
   "outputs": [],
   "source": [
    "def prep_data_feature(data, labnam_in, lab_in, label_conv, num_timesteps, func):\n",
    "    return {f'{func.__name__[4:].upper()} ch {ch_num}': extract_feature_condition(data, labnam_in, lab_in, label_conv, ch_num, num_timesteps, func) for ch_num in range(numCh+1)[1:]}"
   ]
  },
  {
   "cell_type": "code",
   "execution_count": 29,
   "metadata": {},
   "outputs": [],
   "source": [
    "def prep_data_feature(data, labnam_in, lab_in, label_conv, num_timesteps, func):\n",
    "    values = {f'{func.__name__[4:].upper()} ch {ch_num}': extract_feature_condition(data, labnam_in, lab_in, label_conv, ch_num, num_timesteps, func) for ch_num in range(numCh+1)[1:]}\n",
    "    columns = [[val for sublist in [values[ch][cond] for cond in values[ch]] for val in sublist] for ch in values]\n",
    "\n",
    "    return values.keys(), columns"
   ]
  },
  {
   "cell_type": "code",
   "execution_count": 30,
   "metadata": {},
   "outputs": [],
   "source": [
    "# export training data features\n",
    "\n",
    "# rms_headers, rms_columns = prep_data_feature(data, label_names, labels, label_rps, num_timesteps, get_rms)\n",
    "# wl_headers, wl_columns = prep_data_feature(data, label_names, labels, label_rps, num_timesteps, get_wl)\n",
    "# var_headers, var_columns = prep_data_feature(data, label_names, labels, label_rps, num_timesteps, get_var)\n",
    "# iemg_headers, iemg_columns = prep_data_feature(data, label_names, labels, label_rps, num_timesteps, get_iemg)\n",
    "# mf_headers, mf_columns = prep_data_feature(data, label_names, labels, label_rps, num_timesteps, get_mf)\n",
    "# pf_headers, pf_columns = prep_data_feature(data, label_names, labels, label_rps, num_timesteps, get_pf)\n",
    "\n",
    "# labels_column = [*list(np.zeros(60, dtype=int)), *list(np.ones(60, dtype=int)), *list(2*np.ones(60, dtype=int))]\n",
    "\n",
    "# headers = [*list(rms_headers), *list(wl_headers), *list(var_headers), *list(iemg_headers), *list(mf_headers), *list(pf_headers), *['labels']]\n",
    "\n",
    "# feature_data = pd.DataFrame(list(zip(rms_columns[0], rms_columns[1], rms_columns[2], rms_columns[3], \n",
    "#                                      wl_columns[0], wl_columns[1], wl_columns[2], wl_columns[3],\n",
    "#                                      var_columns[0], var_columns[1], var_columns[2], var_columns[3],\n",
    "#                                      iemg_columns[0], iemg_columns[1], iemg_columns[2], iemg_columns[3],\n",
    "#                                      mf_columns[0], mf_columns[1], mf_columns[2], mf_columns[3],\n",
    "#                                      pf_columns[0], pf_columns[1], pf_columns[2], pf_columns[3],\n",
    "#                                      labels_column\n",
    "#                                      )), \n",
    "#                             columns=headers)\n",
    "\n",
    "# feature_data.to_csv('features.csv', index=False)\n",
    "\n",
    "\n"
   ]
  },
  {
   "cell_type": "code",
   "execution_count": 31,
   "metadata": {},
   "outputs": [],
   "source": [
    "# export test data features\n",
    "\n",
    "# test_rms_headers, test_rms_columns = prep_data_feature(test_data, test_label_names, test_labels, label_rps, test_num_timesteps, get_rms)\n",
    "# test_wl_headers, test_wl_columns = prep_data_feature(test_data, test_label_names, test_labels, label_rps, test_num_timesteps, get_wl)\n",
    "# test_var_headers, test_var_columns = prep_data_feature(test_data, test_label_names, test_labels, label_rps, test_num_timesteps, get_var)\n",
    "# test_iemg_headers, test_iemg_columns = prep_data_feature(test_data, test_label_names, test_labels, label_rps, test_num_timesteps, get_iemg)\n",
    "# test_mf_headers, test_mf_columns = prep_data_feature(test_data, test_label_names, test_labels, label_rps, test_num_timesteps, get_mf)\n",
    "# test_pf_headers, test_pf_columns = prep_data_feature(test_data, test_label_names, test_labels, label_rps, test_num_timesteps, get_pf)\n",
    "\n",
    "# test_labels_column = [*list(np.zeros(40, dtype=int)), *list(np.ones(40, dtype=int)), *list(2*np.ones(40, dtype=int))]\n",
    "\n",
    "# test_headers = [*list(test_rms_headers), *list(test_wl_headers), *list(test_var_headers), *list(test_iemg_headers), *list(test_mf_headers), *list(test_pf_headers), *['labels']]\n",
    "\n",
    "# test_feature_data = pd.DataFrame(list(zip(test_rms_columns[0], test_rms_columns[1], test_rms_columns[2], test_rms_columns[3], \n",
    "#                                      test_wl_columns[0], test_wl_columns[1], test_wl_columns[2], test_wl_columns[3],\n",
    "#                                      test_var_columns[0], test_var_columns[1], test_var_columns[2], test_var_columns[3],\n",
    "#                                      test_iemg_columns[0], test_iemg_columns[1], test_iemg_columns[2], test_iemg_columns[3],\n",
    "#                                      test_mf_columns[0], test_mf_columns[1], test_mf_columns[2], test_mf_columns[3],\n",
    "#                                      test_pf_columns[0], test_pf_columns[1], test_pf_columns[2], test_pf_columns[3],\n",
    "#                                      test_labels_column\n",
    "#                                      )), \n",
    "#                             columns=test_headers)\n",
    "\n",
    "# test_feature_data.to_csv('test_features.csv', index=False)"
   ]
  },
  {
   "cell_type": "code",
   "execution_count": 32,
   "metadata": {},
   "outputs": [],
   "source": [
    "def make_feature_table(file_name, num_rocks, num_papers, num_scissors):\n",
    "\n",
    "    dataset = scipy.io.loadmat(file_name)\n",
    "\n",
    "    # test data\n",
    "    feature_data = dataset['dataChTimeTr']\n",
    "    feature_data_dim = dataset['dataChTimeTr'].shape\n",
    "    feature_num_timesteps = feature_data_dim[1]\n",
    "\n",
    "    feature_labels = dataset['labels']\n",
    "    feature_label_names = dataset['label_names']\n",
    "\n",
    "    conversion = ['rock', 'paper', 'scissors']\n",
    "\n",
    "    rms_headers, rms_columns = prep_data_feature(feature_data, feature_label_names, feature_labels, conversion, feature_num_timesteps, get_rms)\n",
    "    wl_headers, wl_columns = prep_data_feature(feature_data, feature_label_names, feature_labels, conversion, feature_num_timesteps, get_wl)\n",
    "    var_headers, var_columns = prep_data_feature(feature_data, feature_label_names, feature_labels, conversion, feature_num_timesteps, get_var)\n",
    "    iemg_headers, iemg_columns = prep_data_feature(feature_data, feature_label_names, feature_labels, conversion, feature_num_timesteps, get_iemg)\n",
    "    mf_headers, mf_columns = prep_data_feature(feature_data, feature_label_names, feature_labels, conversion, feature_num_timesteps, get_mf)\n",
    "    pf_headers, pf_columns = prep_data_feature(feature_data, feature_label_names, feature_labels, conversion, feature_num_timesteps, get_pf)\n",
    "\n",
    "    labels_column = [*list(np.zeros(num_rocks, dtype=int)), *list(np.ones(num_papers, dtype=int)), *list(2*np.ones(num_scissors, dtype=int))]\n",
    "\n",
    "    headers = [*list(rms_headers), *list(wl_headers), *list(var_headers), *list(iemg_headers), *list(mf_headers), *list(pf_headers), *['labels']]\n",
    "\n",
    "    feature_data = pd.DataFrame(list(zip(rms_columns[0], rms_columns[1], rms_columns[2], rms_columns[3], \n",
    "                                        wl_columns[0], wl_columns[1], wl_columns[2], wl_columns[3],\n",
    "                                        var_columns[0], var_columns[1], var_columns[2], var_columns[3],\n",
    "                                        iemg_columns[0], iemg_columns[1], iemg_columns[2], iemg_columns[3],\n",
    "                                        mf_columns[0], mf_columns[1], mf_columns[2], mf_columns[3],\n",
    "                                        pf_columns[0], pf_columns[1], pf_columns[2], pf_columns[3],\n",
    "                                        labels_column\n",
    "                                        )), \n",
    "                                columns=headers)\n",
    "\n",
    "    feature_data.to_csv('feature_table.csv', index=False)"
   ]
  },
  {
   "cell_type": "code",
   "execution_count": 33,
   "metadata": {},
   "outputs": [],
   "source": [
    "# make_feature_table('anotherDay.mat', 30, 31, 32)\n",
    "make_feature_table('exampleEMGdata180trial_train.mat', 60, 60, 60)"
   ]
  },
  {
   "cell_type": "markdown",
   "metadata": {},
   "source": []
  }
 ],
 "metadata": {
  "kernelspec": {
   "display_name": ".venv",
   "language": "python",
   "name": "python3"
  },
  "language_info": {
   "codemirror_mode": {
    "name": "ipython",
    "version": 3
   },
   "file_extension": ".py",
   "mimetype": "text/x-python",
   "name": "python",
   "nbconvert_exporter": "python",
   "pygments_lexer": "ipython3",
   "version": "3.11.1"
  }
 },
 "nbformat": 4,
 "nbformat_minor": 2
}
